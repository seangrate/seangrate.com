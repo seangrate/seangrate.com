{
 "cells": [
  {
   "cell_type": "markdown",
   "metadata": {
    "slideshow": {
     "slide_type": "slide"
    },
    "vscode": {
     "languageId": "macaulay2"
    }
   },
   "source": [
    "# Castelnuovo-Mumford Regularity of Toric Surfaces\n",
    "\n",
    "### Sean Grate (Auburn University)\n",
    "\n",
    "AMS Central Sectional"
   ]
  },
  {
   "cell_type": "code",
   "execution_count": 7,
   "metadata": {
    "slideshow": {
     "slide_type": "skip"
    }
   },
   "outputs": [
    {
     "name": "stdout",
     "output_type": "stream",
     "text": [
      "\n",
      "\n",
      "\n",
      "\n",
      "\n",
      "\n"
     ]
    }
   ],
   "source": [
    "restart\n",
    "needsPackage \"Polyhedra\"\n",
    "\n",
    "-------------------------------------\n",
    "-- constructs the lattice ideal associated to a finite set of lattice points\n",
    "-- INPUT: matrix A, where each column is a lattice point\n",
    "-- OUTPUT: the lattice ideal of a set of lattice points\n",
    "-------------------------------------\n",
    "latticeIdeal = method(\n",
    "    Options => {\n",
    "        CoefficientRing => ZZ/32749\n",
    "    }\n",
    ");\n",
    "latticeIdeal (Matrix) := opts -> (A) -> (\n",
    "    z := local z;\n",
    "    x := local x;\n",
    "    R := opts.CoefficientRing(monoid[z_0..z_(numrows A - 1)]);\n",
    "    mons := for monExp in entries transpose A list R_monExp;\n",
    "    S := opts.CoefficientRing(monoid[x_0..x_(#mons-1)]);\n",
    "    kernel map(R, S, mons)\n",
    ");\n",
    "\n",
    "-------------------------------------\n",
    "-- computes the boundary lattice points defined by the convex hull of a set of points\n",
    "-- INPUT: a matrix of lattice points\n",
    "-- OUTPUT: a matrix of lattice points\n",
    "-------------------------------------\n",
    "hollowPolygon = method();\n",
    "hollowPolygon (Matrix) := Matrix => (M) -> (\n",
    "    polygon := convexHull M;\n",
    "    intPoints := interiorLatticePoints polygon;\n",
    "    sort fold(select(latticePoints polygon, point -> not member(point,intPoints)), (i,j) -> i | j)\n",
    ");\n",
    "\n",
    "-------------------------------------\n",
    "-- homogenizes a set of lattice points so their entries all have the same sum\n",
    "-- INPUT: a matrix of lattice points\n",
    "-- OUTPUT: a matrix of lattice points with all columns having the same sum\n",
    "-------------------------------------\n",
    "homogenizeLatticePoints = method();\n",
    "homogenizeLatticePoints (Matrix) := Matrix => (A) -> (\n",
    "    candidateSum := sum((entries transpose A)#0);\n",
    "    if all(apply(entries transpose A, sum), i -> i == candidateSum) then (\n",
    "        homogenizedA := A;\n",
    "    )\n",
    "    else (\n",
    "        columnSums := apply(transpose entries A, sum);\n",
    "        maxSum := max columnSums;\n",
    "        homogenizedA = A || matrix{apply(columnSums, i -> maxSum - i)};\n",
    "    );\n",
    "    homogenizedA\n",
    ");"
   ]
  },
  {
   "cell_type": "code",
   "execution_count": 1,
   "metadata": {
    "slideshow": {
     "slide_type": "skip"
    }
   },
   "outputs": [],
   "source": [
    "import matplotlib.pyplot as plt\n",
    "import numpy as np\n",
    "\n",
    "\n",
    "def plot_hollow_polygon(points, corner_indices,\n",
    "                        interior_points=None, ax=None):\n",
    "    corners = points[corner_indices]\n",
    "    cycle_points = np.vstack([corners, corners[0, :]])\n",
    "    ax.plot(cycle_points[:, 0], cycle_points[:, 1], color='k')\n",
    "    ax.scatter(points[:, 0], points[:, 1], color='k')\n",
    "    if interior_points is not None:\n",
    "        ax.scatter(interior_points[:, 0], interior_points[:, 1], color='r')\n",
    "    return ax"
   ]
  },
  {
   "cell_type": "markdown",
   "metadata": {
    "slideshow": {
     "slide_type": "slide"
    }
   },
   "source": [
    "## Castelnuovo-Mumford regularity\n",
    "\n",
    "**Definition**: Let $I \\subseteq R = \\mathbb{K}[x_0,\\dots,x_n]$ be a homogeneous ideal, and consider the minimal free resolution\n",
    "$$0 \\leftarrow R/I \\leftarrow F_0 \\leftarrow \\dots \\leftarrow F_{n+1} \\leftarrow 0$$\n",
    "of $R/I$, where $F_i \\cong \\bigoplus_j R(-i-j)^{\\beta_{i,j}}$.\n",
    "The *Castelnuovo-Mumford regularity* (or simply *regularity*) is\n",
    "$$\\text{reg}(R/I) = \\max_{i,j} \\left\\{ j \\, \\colon \\, \\beta_{i,j} \\neq 0 \\right\\}.$$\n",
    "\n",
    "**Note**: The regularity is the index of the bottom row in the Betti table."
   ]
  },
  {
   "cell_type": "markdown",
   "metadata": {
    "slideshow": {
     "slide_type": "subslide"
    }
   },
   "source": [
    "## Regularity of monomial curves\n",
    "\n",
    "**Theorem** [L'vovsky; 1996]:\n",
    "Let $A = (0,a_1,\\dots,a_n)$ be a sequence of non-negative integers such that the g.c.d. of the $a_j$'s equals $1$, and let $C$ be the corresponding monomial curve. Then $C$ is $\\delta$-regular, where\n",
    "$$\\delta = \\max_{1 \\leq i < j \\leq n} \\{ (a_i - a_{i-1}) + (a_j - a_{j-1}) \\},$$\n",
    "i.e., $\\delta$ is the sum of the two largest gaps in the semigroup generated by $A$."
   ]
  },
  {
   "cell_type": "code",
   "execution_count": 14,
   "metadata": {
    "slideshow": {
     "slide_type": "subslide"
    }
   },
   "outputs": [
    {
     "name": "stdout",
     "output_type": "stream",
     "text": [
      "       0 1 2\n",
      "total: 1 3 2\n",
      "    0: 1 . .\n",
      "    1: . 3 2\n",
      "\n",
      "ideal(x_2^2-x_1*x_3,x_1*x_2-x_0*x_3,x_1^2-x_0*x_2) -> reg(I) = 2\n",
      "\n",
      "       0 1 2\n",
      "total: 1 3 2\n",
      "    0: 1 . .\n",
      "    1: . 1 .\n",
      "    2: . . .\n",
      "    3: . 2 2\n",
      "\n",
      "ideal(x_2^2-x_1*x_3,x_1^3*x_2-x_0^2*x_3^2,x_1^4-x_0^2*x_2*x_3) -> reg(I) = 4\n"
     ]
    }
   ],
   "source": [
    "kk = ZZ/32749\n",
    "\n",
    "-- twisted cubic\n",
    "I = monomialCurveIdeal(kk[x_0..x_3], {1,2,3})\n",
    "print betti res I\n",
    "print(toString I | \" -> reg(I) = \" | toString regularity I)\n",
    "\n",
    "-- sporadic\n",
    "I = monomialCurveIdeal(kk[x_0..x_3], {3,5,7})\n",
    "print betti res I\n",
    "print(toString I | \" -> reg(I) = \" | toString regularity I)"
   ]
  },
  {
   "cell_type": "markdown",
   "metadata": {
    "slideshow": {
     "slide_type": "slide"
    }
   },
   "source": [
    "## Regularity of toric surfaces\n",
    "\n",
    "Now working with lattice points in the plane (and then homogenizing).\n",
    "\n",
    "<div class=\"row\">\n",
    "    <div class=\"column\" style=\"float: left; width: 50%\">\n",
    "        <img style=\"width: 85%;\" src=\"hollow_triangle.png\" alt=\"hollow_triangle\">\n",
    "    </div>\n",
    "    <div class=\"column\" style=\"float: left; width: 50%\">\n",
    "        <img style=\"width: 100%;\" src=\"bad_boy.png\" alt=\"bad_boy\">\n",
    "    </div>\n",
    "</div>"
   ]
  },
  {
   "cell_type": "code",
   "execution_count": 18,
   "metadata": {
    "slideshow": {
     "slide_type": "subslide"
    }
   },
   "outputs": [
    {
     "name": "stdout",
     "output_type": "stream",
     "text": [
      "| 0 1 2 3 0 2 0 1 0 |\n",
      "| 0 0 0 0 1 1 2 2 3 |\n",
      "| 3 2 1 0 2 0 1 0 0 |\n",
      "\n",
      "       0  1  2  3   4  5  6 7 8\n",
      "total: 1 17 53 91 108 83 37 9 1\n",
      "    0: 1  .  .  .   .  .  . . .\n",
      "    1: . 17 43 36   8  .  . . .\n",
      "    2: .  . 10 55 100 83 37 9 1\n"
     ]
    }
   ],
   "source": [
    "-- pinched Veronese\n",
    "A = homogenizeLatticePoints hollowPolygon transpose matrix {{0,0}, {3,0}, {0,3}}\n",
    "I = latticeIdeal A\n",
    "\n",
    "print A\n",
    "print minimalBetti I"
   ]
  },
  {
   "cell_type": "code",
   "execution_count": 22,
   "metadata": {
    "slideshow": {
     "slide_type": "subslide"
    }
   },
   "outputs": [
    {
     "name": "stdout",
     "output_type": "stream",
     "text": [
      "       16 4    5 15\n",
      "ideal(x  x  - x x  )\n",
      "       1  2    0 3\n",
      "\n",
      "       0 1\n",
      "total: 1 1\n",
      "    0: 1 .\n",
      "    1: . .\n",
      "    2: . .\n",
      "    3: . .\n",
      "    4: . .\n",
      "    5: . .\n",
      "    6: . .\n",
      "    7: . .\n",
      "    8: . .\n",
      "    9: . .\n",
      "   10: . .\n",
      "   11: . .\n",
      "   12: . .\n",
      "   13: . .\n",
      "   14: . .\n",
      "   15: . .\n",
      "   16: . .\n",
      "   17: . .\n",
      "   18: . .\n",
      "   19: . 1\n"
     ]
    }
   ],
   "source": [
    "-- bad boy example from Hal\n",
    "A = transpose matrix {{0,0}, {7,3}, {4,4}, {2,3}}\n",
    "I = latticeIdeal homogenizeLatticePoints hollowPolygon A\n",
    "\n",
    "print I\n",
    "print betti res I   -- regularity = 19"
   ]
  },
  {
   "cell_type": "markdown",
   "metadata": {
    "slideshow": {
     "slide_type": "slide"
    }
   },
   "source": [
    "## Hollow polygons\n",
    "\n",
    "**Examples**\n",
    "<div class=\"row\">\n",
    "    <div class=\"column\" style=\"float: left; width: 50%\">\n",
    "        <img style=\"width: 85%;\" src=\"hollow_triangle.png\" alt=\"hollow_triangle\">\n",
    "    </div>\n",
    "    <div class=\"column\" style=\"float: left; width: 50%\">\n",
    "        <img style=\"width: 85%;\" src=\"hollow_square.png\" alt=\"hollow_square\">\n",
    "    </div>\n",
    "</div>"
   ]
  },
  {
   "cell_type": "code",
   "execution_count": 2,
   "metadata": {
    "slideshow": {
     "slide_type": "skip"
    }
   },
   "outputs": [
    {
     "data": {
      "image/png": "[encoded data removed]",
      "text/plain": [
       "<Figure size 640x480 with 1 Axes>"
      ]
     },
     "metadata": {},
     "output_type": "display_data"
    }
   ],
   "source": [
    "corners = np.array([[0,0], [3,0], [0,3]])\n",
    "extra_boundary_points = np.array([[0,1], [0,2], [1,2], [2,1], [2,0], [1,0]])\n",
    "interior_points = np.array([[1,1]])\n",
    "\n",
    "fig, ax = plt.subplots()\n",
    "plot_hollow_polygon(np.vstack([corners, extra_boundary_points]), corner_indices=[0,1,2],\n",
    "                    interior_points=interior_points, ax=ax)\n",
    "all_points = np.vstack([corners, extra_boundary_points, interior_points])\n",
    "max_sum = np.max(np.sum(all_points, axis=1))\n",
    "for point in all_points:\n",
    "    ax.annotate(f'$s^{point[0]} t^{point[1]} u^{{{max_sum - point[0] - point[1]}}}$', point + np.array([0.05, 0.05]))\n",
    "ax.set_xticks(np.arange(4))\n",
    "ax.set_yticks(np.arange(4))\n",
    "ax.grid()\n",
    "ax.set_axisbelow(True)\n",
    "ax.set_aspect('equal')"
   ]
  },
  {
   "cell_type": "code",
   "execution_count": 23,
   "metadata": {
    "slideshow": {
     "slide_type": "subslide"
    }
   },
   "outputs": [
    {
     "name": "stdout",
     "output_type": "stream",
     "text": [
      "       0 1 2 3\n",
      "total: 1 6 8 3\n",
      "    0: 1 . . .\n",
      "    1: . 6 8 3\n",
      "\n",
      "\n",
      "       0  1  2  3   4  5  6 7 8\n",
      "total: 1 17 53 91 108 83 37 9 1\n",
      "    0: 1  .  .  .   .  .  . . .\n",
      "    1: . 17 43 36   8  .  . . .\n",
      "    2: .  . 10 55 100 83 37 9 1\n",
      "\n",
      "\n",
      "       0  1   2   3    4    5    6    7   8   9 10 11\n",
      "total: 1 33 153 525 1356 2178 2205 1486 675 201 36  3\n",
      "    0: 1  .   .   .    .    .    .    .   .   .  .  .\n",
      "    1: . 33 123 144   30    .    .    .   .   .  .  .\n",
      "    2: .  .  30 381 1326 2178 2205 1486 675 201 36  3\n",
      "\n",
      "\n"
     ]
    }
   ],
   "source": [
    "-- hollow triangles of lengths 2, 3, and 4\n",
    "for k from 2 to 4 do (\n",
    "    A = homogenizeLatticePoints hollowPolygon transpose matrix {{0,0}, {k,0}, {0,k}};\n",
    "    print minimalBetti latticeIdeal A;\n",
    "    print \"\\n\"\n",
    ")"
   ]
  },
  {
   "cell_type": "code",
   "execution_count": 3,
   "metadata": {
    "slideshow": {
     "slide_type": "skip"
    }
   },
   "outputs": [
    {
     "data": {
      "image/png": "[encoded data removed]",
      "text/plain": [
       "<Figure size 640x480 with 1 Axes>"
      ]
     },
     "metadata": {},
     "output_type": "display_data"
    }
   ],
   "source": [
    "corners = np.array([[0,0], [3,0], [3,3], [0,3]])\n",
    "extra_boundary_points = np.array([[0,1], [0,2], [1,3], [2,3], [3,2], [3,1], [2,0], [1,0]])\n",
    "interior_points = np.array([[1,1], [1,2], [2,2], [2,1]])\n",
    "\n",
    "fig, ax = plt.subplots()\n",
    "plot_hollow_polygon(np.vstack([corners, extra_boundary_points]), corner_indices=[0,1,2,3],\n",
    "                    interior_points=interior_points, ax=ax)\n",
    "all_points = np.vstack([corners, extra_boundary_points, interior_points])\n",
    "max_sum = np.max(np.sum(all_points, axis=1))\n",
    "for point in all_points:\n",
    "    ax.annotate(f'$s^{point[0]} t^{point[1]} u^{{{max_sum - point[0] - point[1]}}}$', point + np.array([0.05, 0.05]))\n",
    "ax.set_xticks(np.arange(4))\n",
    "ax.set_yticks(np.arange(4))\n",
    "ax.grid()\n",
    "ax.set_axisbelow(True)\n",
    "ax.set_aspect('equal')"
   ]
  },
  {
   "cell_type": "code",
   "execution_count": 24,
   "metadata": {
    "slideshow": {
     "slide_type": "subslide"
    }
   },
   "outputs": [
    {
     "name": "stdout",
     "output_type": "stream",
     "text": [
      "       0  1  2  3  4  5 6 7\n",
      "total: 1 11 34 57 55 29 8 1\n",
      "    0: 1  .  .  .  .  . . .\n",
      "    1: . 11 17  6  .  . . .\n",
      "    2: .  . 17 51 55 29 8 1\n",
      "\n",
      "\n",
      "       0  1   2   3    4    5    6    7   8   9 10 11\n",
      "total: 1 29 232 942 2176 3154 3045 2008 903 268 48  4\n",
      "    0: 1  .   .   .    .    .    .    .   .   .  .  .\n",
      "    1: . 29  84  90   48   10    .    .   .   .  .  .\n",
      "    2: .  . 148 852 2128 3144 3045 2008 903 268 48  4\n",
      "\n",
      "\n"
     ]
    }
   ],
   "source": [
    "-- hollow squares of lengths 2, 3\n",
    "for k from 2 to 3 do (\n",
    "    A = homogenizeLatticePoints hollowPolygon transpose matrix {{0,0}, {k,0}, {0,k}, {k,k}};\n",
    "    print minimalBetti latticeIdeal A;\n",
    "    print \"\\n\"\n",
    ")"
   ]
  },
  {
   "cell_type": "markdown",
   "metadata": {
    "slideshow": {
     "slide_type": "subslide"
    },
    "vscode": {
     "languageId": "macaulay2"
    }
   },
   "source": [
    "**Theorem**: \n",
    "$\\text{reg}(\\triangle^k) = 2$ for all $k \\geq 3$.\n",
    "\n",
    "**Theorem**: \n",
    "$\\text{reg}(\\square^k) = 2$ for all $k \\geq 2$.\n",
    "\n",
    "Proofs involve representing interior points as $\\mathbb{N}$-linear combinations of the boundary points. Taking \"enough\" points on the boundary _should_ decrease the regularity."
   ]
  },
  {
   "cell_type": "code",
   "execution_count": 26,
   "metadata": {
    "slideshow": {
     "slide_type": "subslide"
    }
   },
   "outputs": [
    {
     "name": "stdout",
     "output_type": "stream",
     "text": [
      "       0  1   2    3    4    5    6    7    8    9  10  11 12 13\n",
      "total: 1 54 385 1462 3608 6456 8394 7875 5369 2639 913 212 30  2\n",
      "    0: 1  .   .    .    .    .    .    .    .    .   .   .  .  .\n",
      "    1: . 52 280  730 1128 1050  720  315   80    9   .   .  .  .\n",
      "    2: .  .  81  600 2040 4416 6090 5712 3705 1640 473  80  6  .\n",
      "    3: .  2  24  132  440  990 1584 1848 1584  990 440 132 24  2\n"
     ]
    }
   ],
   "source": [
    "-- Example: smooth is not enough\n",
    "A = hollowPolygon homogenizeLatticePoints transpose matrix {{0,0}, {0,2}, {2,4}, {8,8}}\n",
    "\n",
    "print minimalBetti latticeIdeal A;      -- regularity = 3"
   ]
  },
  {
   "cell_type": "code",
   "execution_count": 4,
   "metadata": {
    "slideshow": {
     "slide_type": "skip"
    }
   },
   "outputs": [
    {
     "data": {
      "text/plain": [
       "<Axes: >"
      ]
     },
     "execution_count": 4,
     "metadata": {},
     "output_type": "execute_result"
    },
    {
     "data": {
      "image/png": "[encoded data removed]",
      "text/plain": [
       "<Figure size 640x480 with 1 Axes>"
      ]
     },
     "metadata": {},
     "output_type": "display_data"
    }
   ],
   "source": [
    "corners = np.array([[0,0], [0,2], [2,4], [8,8]])\n",
    "extra_boundary_points = np.array([[0,1], [1,3], [5,6], [7,7], [6,6], [5,5], [4,4], [3,3], [2,2], [1,1]])\n",
    "interior_points = np.array([[1,2], [2,3], [3,4], [4,5]])\n",
    "\n",
    "fig, ax = plt.subplots()\n",
    "ax.set_xticks(np.arange(-1, 9))\n",
    "ax.set_yticks(np.arange(13))\n",
    "ax.grid()\n",
    "ax.set_axisbelow(True)\n",
    "ax.set_aspect('equal')\n",
    "# fill vertex spans\n",
    "polys = [corners[[0,1,3]], corners[[0,1,2]], corners[[2,1,3]], corners[[3,0,2]]]\n",
    "for poly, color in zip(polys, ['r', 'b', 'k', 'orange']):\n",
    "    ax.fill(poly[:, 0], poly[:, 1], color=color, alpha=0.25)\n",
    "plot_hollow_polygon(np.vstack([corners, extra_boundary_points]), corner_indices=[0,1,2,3],\n",
    "                    interior_points=interior_points, ax=ax)"
   ]
  },
  {
   "cell_type": "code",
   "execution_count": 5,
   "metadata": {
    "slideshow": {
     "slide_type": "skip"
    }
   },
   "outputs": [
    {
     "data": {
      "image/png": "[encoded data removed]",
      "text/plain": [
       "<Figure size 640x480 with 1 Axes>"
      ]
     },
     "metadata": {},
     "output_type": "display_data"
    }
   ],
   "source": [
    "corners = np.array([[0,0], [0,2], [2,4], [8,8]])\n",
    "extra_boundary_points = np.array([[0,1], [1,3], [5,6], [7,7], [6,6], [5,5], [4,4], [3,3], [2,2], [1,1]])\n",
    "interior_points = np.array([[1,2], [2,3], [3,4], [4,5]])\n",
    "normals = [np.array([[1,0], [-1,1]]),\n",
    "           np.array([[1,1], [1,2]]),\n",
    "           np.array([[3,3], [4,1]]),\n",
    "           np.array([[6,11], [7,9]])]\n",
    "\n",
    "fig, ax = plt.subplots()\n",
    "# fill vertex spans\n",
    "for i, (normal, color) in enumerate(zip(normals, ['r', 'b', 'k', 'orange'])):\n",
    "    filled_span = np.vstack([corners[i, :], normal])\n",
    "    ax.fill(filled_span[:, 0], filled_span[:, 1], color=color, alpha=0.25)\n",
    "    ax = plot_hollow_polygon(np.vstack([corners, extra_boundary_points]), corner_indices=[0,1,2,3],\n",
    "                             interior_points=interior_points, ax=ax)\n",
    "ax.set_xticks(np.arange(-1, 9))\n",
    "ax.set_yticks(np.arange(13))\n",
    "ax.grid()\n",
    "ax.set_axisbelow(True)\n",
    "ax.set_aspect('equal')"
   ]
  },
  {
   "cell_type": "markdown",
   "metadata": {
    "slideshow": {
     "slide_type": "subslide"
    }
   },
   "source": [
    "<div class=\"row\">\n",
    "    <div class=\"column\" style=\"float: left; width: 50%\">\n",
    "        <img style=\"width: 85%;\" src=\"vertex_spans.png\" alt=\"vertex_spans\">\n",
    "    </div>\n",
    "    <div class=\"column\" style=\"float: left; width: 50%\">\n",
    "        <img style=\"width: 100%;\" src=\"lattice_moves.png\" alt=\"lattice_moves\">\n",
    "    </div>\n",
    "</div>"
   ]
  },
  {
   "cell_type": "code",
   "execution_count": null,
   "metadata": {},
   "outputs": [],
   "source": []
  }
 ],
 "metadata": {
  "kernelspec": {
   "display_name": "Python 3 (ipykernel)",
   "language": "python",
   "name": "python3"
  },
  "language_info": {
   "codemirror_mode": {
    "name": "ipython",
    "version": 3
   },
   "file_extension": ".py",
   "mimetype": "text/x-python",
   "name": "python",
   "nbconvert_exporter": "python",
   "pygments_lexer": "ipython3",
   "version": "3.11.5"
  }
 },
 "nbformat": 4,
 "nbformat_minor": 4
}
